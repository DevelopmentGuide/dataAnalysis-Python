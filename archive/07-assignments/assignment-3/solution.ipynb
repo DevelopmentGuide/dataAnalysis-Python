{
 "cells": [
  {
   "attachments": {},
   "cell_type": "markdown",
   "metadata": {},
   "source": [
    "## 04-pandas"
   ]
  },
  {
   "cell_type": "code",
   "execution_count": 52,
   "metadata": {},
   "outputs": [],
   "source": [
    "import pandas as pd\n",
    "from urllib.request import urlretrieve"
   ]
  },
  {
   "attachments": {},
   "cell_type": "markdown",
   "metadata": {},
   "source": [
    "### Data 1 - 'countries'"
   ]
  },
  {
   "cell_type": "code",
   "execution_count": 54,
   "metadata": {},
   "outputs": [
    {
     "data": {
      "text/html": [
       "<div>\n",
       "<style scoped>\n",
       "    .dataframe tbody tr th:only-of-type {\n",
       "        vertical-align: middle;\n",
       "    }\n",
       "\n",
       "    .dataframe tbody tr th {\n",
       "        vertical-align: top;\n",
       "    }\n",
       "\n",
       "    .dataframe thead th {\n",
       "        text-align: right;\n",
       "    }\n",
       "</style>\n",
       "<table border=\"1\" class=\"dataframe\">\n",
       "  <thead>\n",
       "    <tr style=\"text-align: right;\">\n",
       "      <th></th>\n",
       "      <th>location</th>\n",
       "      <th>continent</th>\n",
       "      <th>population</th>\n",
       "      <th>life_expectancy</th>\n",
       "      <th>hospital_beds_per_thousand</th>\n",
       "      <th>gdp_per_capita</th>\n",
       "    </tr>\n",
       "  </thead>\n",
       "  <tbody>\n",
       "    <tr>\n",
       "      <th>0</th>\n",
       "      <td>Afghanistan</td>\n",
       "      <td>Asia</td>\n",
       "      <td>38928341.0</td>\n",
       "      <td>64.83</td>\n",
       "      <td>0.5</td>\n",
       "      <td>1803.987</td>\n",
       "    </tr>\n",
       "  </tbody>\n",
       "</table>\n",
       "</div>"
      ],
      "text/plain": [
       "      location continent  population  life_expectancy  \\\n",
       "0  Afghanistan      Asia  38928341.0            64.83   \n",
       "\n",
       "   hospital_beds_per_thousand  gdp_per_capita  \n",
       "0                         0.5        1803.987  "
      ]
     },
     "execution_count": 54,
     "metadata": {},
     "output_type": "execute_result"
    }
   ],
   "source": [
    "urlretrieve('https://gist.githubusercontent.com/aakashns/28b2e504b3350afd9bdb157893f9725c/raw/994b65665757f4f8887db1c85986a897abb23d84/countries.csv', \n",
    "            'countries.csv')\n",
    "\n",
    "df = pd.read_csv('countries.csv')\n",
    "\n",
    "df.head(1)"
   ]
  },
  {
   "attachments": {},
   "cell_type": "markdown",
   "metadata": {},
   "source": [
    "#### Q1: How many countries does the dataframe contain?"
   ]
  },
  {
   "cell_type": "code",
   "execution_count": 10,
   "metadata": {},
   "outputs": [
    {
     "data": {
      "text/plain": [
       "210"
      ]
     },
     "execution_count": 10,
     "metadata": {},
     "output_type": "execute_result"
    }
   ],
   "source": [
    "df.shape[0]"
   ]
  },
  {
   "attachments": {},
   "cell_type": "markdown",
   "metadata": {},
   "source": [
    "#### Q2: Retrieve a list of continents from the dataframe?"
   ]
  },
  {
   "cell_type": "code",
   "execution_count": 16,
   "metadata": {},
   "outputs": [
    {
     "data": {
      "text/plain": [
       "array(['Asia', 'Europe', 'Africa', 'North America', 'South America',\n",
       "       'Oceania'], dtype=object)"
      ]
     },
     "execution_count": 16,
     "metadata": {},
     "output_type": "execute_result"
    }
   ],
   "source": [
    "# unique values\n",
    "df['continent'].unique()"
   ]
  },
  {
   "attachments": {},
   "cell_type": "markdown",
   "metadata": {},
   "source": [
    "#### Q3: What is the total population of all the countries listed in this dataset?"
   ]
  },
  {
   "cell_type": "code",
   "execution_count": 11,
   "metadata": {},
   "outputs": [
    {
     "data": {
      "text/plain": [
       "7757980095.0"
      ]
     },
     "execution_count": 11,
     "metadata": {},
     "output_type": "execute_result"
    }
   ],
   "source": [
    "df['population'].sum()"
   ]
  },
  {
   "attachments": {},
   "cell_type": "markdown",
   "metadata": {},
   "source": [
    "#### (Optional) What is the overall life expectancy across in the world?"
   ]
  },
  {
   "cell_type": "code",
   "execution_count": 31,
   "metadata": {},
   "outputs": [
    {
     "data": {
      "text/plain": [
       "73.52985507246377"
      ]
     },
     "execution_count": 31,
     "metadata": {},
     "output_type": "execute_result"
    }
   ],
   "source": [
    "x = df['life_expectancy'].sum()\n",
    "y = df['life_expectancy'].count()\n",
    "x/y"
   ]
  },
  {
   "attachments": {},
   "cell_type": "markdown",
   "metadata": {},
   "source": [
    "#### Q4: Create a dataframe containing 10 countries with the highest population."
   ]
  },
  {
   "cell_type": "code",
   "execution_count": 30,
   "metadata": {},
   "outputs": [
    {
     "data": {
      "text/html": [
       "<div>\n",
       "<style scoped>\n",
       "    .dataframe tbody tr th:only-of-type {\n",
       "        vertical-align: middle;\n",
       "    }\n",
       "\n",
       "    .dataframe tbody tr th {\n",
       "        vertical-align: top;\n",
       "    }\n",
       "\n",
       "    .dataframe thead th {\n",
       "        text-align: right;\n",
       "    }\n",
       "</style>\n",
       "<table border=\"1\" class=\"dataframe\">\n",
       "  <thead>\n",
       "    <tr style=\"text-align: right;\">\n",
       "      <th></th>\n",
       "      <th>location</th>\n",
       "      <th>continent</th>\n",
       "      <th>population</th>\n",
       "      <th>life_expectancy</th>\n",
       "      <th>hospital_beds_per_thousand</th>\n",
       "      <th>gdp_per_capita</th>\n",
       "    </tr>\n",
       "  </thead>\n",
       "  <tbody>\n",
       "    <tr>\n",
       "      <th>41</th>\n",
       "      <td>China</td>\n",
       "      <td>Asia</td>\n",
       "      <td>1.439324e+09</td>\n",
       "      <td>76.91</td>\n",
       "      <td>4.34</td>\n",
       "      <td>15308.712</td>\n",
       "    </tr>\n",
       "    <tr>\n",
       "      <th>90</th>\n",
       "      <td>India</td>\n",
       "      <td>Asia</td>\n",
       "      <td>1.380004e+09</td>\n",
       "      <td>69.66</td>\n",
       "      <td>0.53</td>\n",
       "      <td>6426.674</td>\n",
       "    </tr>\n",
       "    <tr>\n",
       "      <th>199</th>\n",
       "      <td>United States</td>\n",
       "      <td>North America</td>\n",
       "      <td>3.310026e+08</td>\n",
       "      <td>78.86</td>\n",
       "      <td>2.77</td>\n",
       "      <td>54225.446</td>\n",
       "    </tr>\n",
       "    <tr>\n",
       "      <th>91</th>\n",
       "      <td>Indonesia</td>\n",
       "      <td>Asia</td>\n",
       "      <td>2.735236e+08</td>\n",
       "      <td>71.72</td>\n",
       "      <td>1.04</td>\n",
       "      <td>11188.744</td>\n",
       "    </tr>\n",
       "    <tr>\n",
       "      <th>145</th>\n",
       "      <td>Pakistan</td>\n",
       "      <td>Asia</td>\n",
       "      <td>2.208923e+08</td>\n",
       "      <td>67.27</td>\n",
       "      <td>0.60</td>\n",
       "      <td>5034.708</td>\n",
       "    </tr>\n",
       "    <tr>\n",
       "      <th>27</th>\n",
       "      <td>Brazil</td>\n",
       "      <td>South America</td>\n",
       "      <td>2.125594e+08</td>\n",
       "      <td>75.88</td>\n",
       "      <td>2.20</td>\n",
       "      <td>14103.452</td>\n",
       "    </tr>\n",
       "    <tr>\n",
       "      <th>141</th>\n",
       "      <td>Nigeria</td>\n",
       "      <td>Africa</td>\n",
       "      <td>2.061396e+08</td>\n",
       "      <td>54.69</td>\n",
       "      <td>NaN</td>\n",
       "      <td>5338.454</td>\n",
       "    </tr>\n",
       "    <tr>\n",
       "      <th>15</th>\n",
       "      <td>Bangladesh</td>\n",
       "      <td>Asia</td>\n",
       "      <td>1.646894e+08</td>\n",
       "      <td>72.59</td>\n",
       "      <td>0.80</td>\n",
       "      <td>3523.984</td>\n",
       "    </tr>\n",
       "    <tr>\n",
       "      <th>157</th>\n",
       "      <td>Russia</td>\n",
       "      <td>Europe</td>\n",
       "      <td>1.459345e+08</td>\n",
       "      <td>72.58</td>\n",
       "      <td>8.05</td>\n",
       "      <td>24765.954</td>\n",
       "    </tr>\n",
       "    <tr>\n",
       "      <th>125</th>\n",
       "      <td>Mexico</td>\n",
       "      <td>North America</td>\n",
       "      <td>1.289328e+08</td>\n",
       "      <td>75.05</td>\n",
       "      <td>1.38</td>\n",
       "      <td>17336.469</td>\n",
       "    </tr>\n",
       "  </tbody>\n",
       "</table>\n",
       "</div>"
      ],
      "text/plain": [
       "          location      continent    population  life_expectancy  \\\n",
       "41           China           Asia  1.439324e+09            76.91   \n",
       "90           India           Asia  1.380004e+09            69.66   \n",
       "199  United States  North America  3.310026e+08            78.86   \n",
       "91       Indonesia           Asia  2.735236e+08            71.72   \n",
       "145       Pakistan           Asia  2.208923e+08            67.27   \n",
       "27          Brazil  South America  2.125594e+08            75.88   \n",
       "141        Nigeria         Africa  2.061396e+08            54.69   \n",
       "15      Bangladesh           Asia  1.646894e+08            72.59   \n",
       "157         Russia         Europe  1.459345e+08            72.58   \n",
       "125         Mexico  North America  1.289328e+08            75.05   \n",
       "\n",
       "     hospital_beds_per_thousand  gdp_per_capita  \n",
       "41                         4.34       15308.712  \n",
       "90                         0.53        6426.674  \n",
       "199                        2.77       54225.446  \n",
       "91                         1.04       11188.744  \n",
       "145                        0.60        5034.708  \n",
       "27                         2.20       14103.452  \n",
       "141                         NaN        5338.454  \n",
       "15                         0.80        3523.984  \n",
       "157                        8.05       24765.954  \n",
       "125                        1.38       17336.469  "
      ]
     },
     "execution_count": 30,
     "metadata": {},
     "output_type": "execute_result"
    }
   ],
   "source": [
    "df.sort_values('population', ascending=False).head(10)"
   ]
  },
  {
   "attachments": {},
   "cell_type": "markdown",
   "metadata": {},
   "source": [
    "#### Q5: Add a new column in `countries_df` to record the overall GDP per country (product of population & per capita GDP)."
   ]
  },
  {
   "cell_type": "code",
   "execution_count": 46,
   "metadata": {},
   "outputs": [
    {
     "data": {
      "text/html": [
       "<div>\n",
       "<style scoped>\n",
       "    .dataframe tbody tr th:only-of-type {\n",
       "        vertical-align: middle;\n",
       "    }\n",
       "\n",
       "    .dataframe tbody tr th {\n",
       "        vertical-align: top;\n",
       "    }\n",
       "\n",
       "    .dataframe thead th {\n",
       "        text-align: right;\n",
       "    }\n",
       "</style>\n",
       "<table border=\"1\" class=\"dataframe\">\n",
       "  <thead>\n",
       "    <tr style=\"text-align: right;\">\n",
       "      <th></th>\n",
       "      <th>location</th>\n",
       "      <th>continent</th>\n",
       "      <th>population</th>\n",
       "      <th>life_expectancy</th>\n",
       "      <th>hospital_beds_per_thousand</th>\n",
       "      <th>gdp_per_capita</th>\n",
       "      <th>countries_df</th>\n",
       "    </tr>\n",
       "  </thead>\n",
       "  <tbody>\n",
       "    <tr>\n",
       "      <th>0</th>\n",
       "      <td>Afghanistan</td>\n",
       "      <td>Asia</td>\n",
       "      <td>38928341.0</td>\n",
       "      <td>64.83</td>\n",
       "      <td>0.5</td>\n",
       "      <td>1803.987</td>\n",
       "      <td>7.022622e+10</td>\n",
       "    </tr>\n",
       "  </tbody>\n",
       "</table>\n",
       "</div>"
      ],
      "text/plain": [
       "      location continent  population  life_expectancy  \\\n",
       "0  Afghanistan      Asia  38928341.0            64.83   \n",
       "\n",
       "   hospital_beds_per_thousand  gdp_per_capita  countries_df  \n",
       "0                         0.5        1803.987  7.022622e+10  "
      ]
     },
     "execution_count": 46,
     "metadata": {},
     "output_type": "execute_result"
    }
   ],
   "source": [
    "# add new column\n",
    "df['countries_df'] = df['population'] * df['gdp_per_capita']\n",
    "df.head(1)"
   ]
  },
  {
   "attachments": {},
   "cell_type": "markdown",
   "metadata": {},
   "source": [
    "#### Q6: Create a data frame that counts the number countries in each continent?"
   ]
  },
  {
   "cell_type": "code",
   "execution_count": 47,
   "metadata": {},
   "outputs": [
    {
     "data": {
      "text/plain": [
       "continent\n",
       "Africa           55\n",
       "Asia             47\n",
       "Europe           51\n",
       "North America    36\n",
       "Oceania           8\n",
       "South America    13\n",
       "Name: location, dtype: int64"
      ]
     },
     "execution_count": 47,
     "metadata": {},
     "output_type": "execute_result"
    }
   ],
   "source": [
    "df.groupby('continent')['location'].count()"
   ]
  },
  {
   "attachments": {},
   "cell_type": "markdown",
   "metadata": {},
   "source": [
    "#### Q7: Create a data frame showing the total population of each continent."
   ]
  },
  {
   "cell_type": "code",
   "execution_count": 48,
   "metadata": {},
   "outputs": [
    {
     "data": {
      "text/plain": [
       "continent\n",
       "Africa           1.339424e+09\n",
       "Asia             4.607388e+09\n",
       "Europe           7.485062e+08\n",
       "North America    5.912425e+08\n",
       "Oceania          4.095832e+07\n",
       "South America    4.304611e+08\n",
       "Name: population, dtype: float64"
      ]
     },
     "execution_count": 48,
     "metadata": {},
     "output_type": "execute_result"
    }
   ],
   "source": [
    "df.groupby('continent')['population'].sum()"
   ]
  },
  {
   "attachments": {},
   "cell_type": "markdown",
   "metadata": {},
   "source": [
    "---"
   ]
  },
  {
   "attachments": {},
   "cell_type": "markdown",
   "metadata": {},
   "source": [
    "### Data 2 - 'covid-countries-data'"
   ]
  },
  {
   "cell_type": "code",
   "execution_count": 59,
   "metadata": {},
   "outputs": [
    {
     "data": {
      "text/html": [
       "<div>\n",
       "<style scoped>\n",
       "    .dataframe tbody tr th:only-of-type {\n",
       "        vertical-align: middle;\n",
       "    }\n",
       "\n",
       "    .dataframe tbody tr th {\n",
       "        vertical-align: top;\n",
       "    }\n",
       "\n",
       "    .dataframe thead th {\n",
       "        text-align: right;\n",
       "    }\n",
       "</style>\n",
       "<table border=\"1\" class=\"dataframe\">\n",
       "  <thead>\n",
       "    <tr style=\"text-align: right;\">\n",
       "      <th></th>\n",
       "      <th>location</th>\n",
       "      <th>total_cases</th>\n",
       "      <th>total_deaths</th>\n",
       "      <th>total_tests</th>\n",
       "    </tr>\n",
       "  </thead>\n",
       "  <tbody>\n",
       "    <tr>\n",
       "      <th>0</th>\n",
       "      <td>Afghanistan</td>\n",
       "      <td>38243.0</td>\n",
       "      <td>1409.0</td>\n",
       "      <td>NaN</td>\n",
       "    </tr>\n",
       "  </tbody>\n",
       "</table>\n",
       "</div>"
      ],
      "text/plain": [
       "      location  total_cases  total_deaths  total_tests\n",
       "0  Afghanistan      38243.0        1409.0          NaN"
      ]
     },
     "execution_count": 59,
     "metadata": {},
     "output_type": "execute_result"
    }
   ],
   "source": [
    "urlretrieve('https://gist.githubusercontent.com/aakashns/b2a968a6cfd9fbbb0ff3d6bd0f26262b/raw/b115ed1dfa17f10fc88bf966236cd4d9032f1df8/covid-countries-data.csv', \n",
    "            'covid-countries-data.csv')\n",
    "\n",
    "df = pd.read_csv('covid-countries-data.csv')\n",
    "\n",
    "df.head(1)"
   ]
  },
  {
   "attachments": {},
   "cell_type": "markdown",
   "metadata": {},
   "source": [
    "#### Q8: Count the number of countries for which the total_tests data is missing."
   ]
  },
  {
   "cell_type": "code",
   "execution_count": 58,
   "metadata": {},
   "outputs": [
    {
     "data": {
      "text/plain": [
       "122"
      ]
     },
     "execution_count": 58,
     "metadata": {},
     "output_type": "execute_result"
    }
   ],
   "source": [
    "# isna for total_test\n",
    "df['total_tests'].isna().sum()"
   ]
  },
  {
   "attachments": {},
   "cell_type": "markdown",
   "metadata": {},
   "source": [
    "#### Q9: Merge countries_df with covid_data_df on the location column."
   ]
  },
  {
   "cell_type": "code",
   "execution_count": 62,
   "metadata": {},
   "outputs": [
    {
     "data": {
      "text/html": [
       "<div>\n",
       "<style scoped>\n",
       "    .dataframe tbody tr th:only-of-type {\n",
       "        vertical-align: middle;\n",
       "    }\n",
       "\n",
       "    .dataframe tbody tr th {\n",
       "        vertical-align: top;\n",
       "    }\n",
       "\n",
       "    .dataframe thead th {\n",
       "        text-align: right;\n",
       "    }\n",
       "</style>\n",
       "<table border=\"1\" class=\"dataframe\">\n",
       "  <thead>\n",
       "    <tr style=\"text-align: right;\">\n",
       "      <th></th>\n",
       "      <th>location</th>\n",
       "      <th>total_cases</th>\n",
       "      <th>total_deaths</th>\n",
       "      <th>total_tests</th>\n",
       "      <th>continent</th>\n",
       "      <th>population</th>\n",
       "      <th>life_expectancy</th>\n",
       "      <th>hospital_beds_per_thousand</th>\n",
       "      <th>gdp_per_capita</th>\n",
       "    </tr>\n",
       "  </thead>\n",
       "  <tbody>\n",
       "    <tr>\n",
       "      <th>0</th>\n",
       "      <td>Afghanistan</td>\n",
       "      <td>38243.0</td>\n",
       "      <td>1409.0</td>\n",
       "      <td>NaN</td>\n",
       "      <td>Asia</td>\n",
       "      <td>38928341.0</td>\n",
       "      <td>64.83</td>\n",
       "      <td>0.5</td>\n",
       "      <td>1803.987</td>\n",
       "    </tr>\n",
       "  </tbody>\n",
       "</table>\n",
       "</div>"
      ],
      "text/plain": [
       "      location  total_cases  total_deaths  total_tests continent  population  \\\n",
       "0  Afghanistan      38243.0        1409.0          NaN      Asia  38928341.0   \n",
       "\n",
       "   life_expectancy  hospital_beds_per_thousand  gdp_per_capita  \n",
       "0            64.83                         0.5        1803.987  "
      ]
     },
     "execution_count": 62,
     "metadata": {},
     "output_type": "execute_result"
    }
   ],
   "source": [
    "countries_df = pd.read_csv('countries.csv')\n",
    "\n",
    "df = merged_df = df.merge(countries_df, on='location', how='left')\n",
    "df.head(1)"
   ]
  },
  {
   "attachments": {},
   "cell_type": "markdown",
   "metadata": {},
   "source": [
    "#### Q10: Add columns tests_per_million, cases_per_million and deaths_per_million into combined_df."
   ]
  },
  {
   "cell_type": "code",
   "execution_count": 66,
   "metadata": {},
   "outputs": [
    {
     "data": {
      "text/html": [
       "<div>\n",
       "<style scoped>\n",
       "    .dataframe tbody tr th:only-of-type {\n",
       "        vertical-align: middle;\n",
       "    }\n",
       "\n",
       "    .dataframe tbody tr th {\n",
       "        vertical-align: top;\n",
       "    }\n",
       "\n",
       "    .dataframe thead th {\n",
       "        text-align: right;\n",
       "    }\n",
       "</style>\n",
       "<table border=\"1\" class=\"dataframe\">\n",
       "  <thead>\n",
       "    <tr style=\"text-align: right;\">\n",
       "      <th></th>\n",
       "      <th>location</th>\n",
       "      <th>total_cases</th>\n",
       "      <th>total_deaths</th>\n",
       "      <th>total_tests</th>\n",
       "      <th>continent</th>\n",
       "      <th>population</th>\n",
       "      <th>life_expectancy</th>\n",
       "      <th>hospital_beds_per_thousand</th>\n",
       "      <th>gdp_per_capita</th>\n",
       "      <th>tests_per_million</th>\n",
       "      <th>cases_per_million</th>\n",
       "      <th>deaths_per_million</th>\n",
       "    </tr>\n",
       "  </thead>\n",
       "  <tbody>\n",
       "    <tr>\n",
       "      <th>0</th>\n",
       "      <td>Afghanistan</td>\n",
       "      <td>38243.0</td>\n",
       "      <td>1409.0</td>\n",
       "      <td>NaN</td>\n",
       "      <td>Asia</td>\n",
       "      <td>38928341.0</td>\n",
       "      <td>64.83</td>\n",
       "      <td>0.5</td>\n",
       "      <td>1803.987</td>\n",
       "      <td>NaN</td>\n",
       "      <td>982.394806</td>\n",
       "      <td>36.19471</td>\n",
       "    </tr>\n",
       "  </tbody>\n",
       "</table>\n",
       "</div>"
      ],
      "text/plain": [
       "      location  total_cases  total_deaths  total_tests continent  population  \\\n",
       "0  Afghanistan      38243.0        1409.0          NaN      Asia  38928341.0   \n",
       "\n",
       "   life_expectancy  hospital_beds_per_thousand  gdp_per_capita  \\\n",
       "0            64.83                         0.5        1803.987   \n",
       "\n",
       "   tests_per_million  cases_per_million  deaths_per_million  \n",
       "0                NaN         982.394806            36.19471  "
      ]
     },
     "execution_count": 66,
     "metadata": {},
     "output_type": "execute_result"
    }
   ],
   "source": [
    "df['tests_per_million'] = df['total_tests'] / df['population'] * 1000000\n",
    "df['cases_per_million'] = df['total_cases'] / df['population'] * 1000000\n",
    "df['deaths_per_million'] = df['total_deaths'] / df['population'] * 1000000\n",
    "df.head(1)"
   ]
  },
  {
   "attachments": {},
   "cell_type": "markdown",
   "metadata": {},
   "source": [
    "#### Q11: Create a dataframe with 10 countires that have highest number of tests per million people."
   ]
  },
  {
   "cell_type": "code",
   "execution_count": 67,
   "metadata": {},
   "outputs": [
    {
     "data": {
      "text/html": [
       "<div>\n",
       "<style scoped>\n",
       "    .dataframe tbody tr th:only-of-type {\n",
       "        vertical-align: middle;\n",
       "    }\n",
       "\n",
       "    .dataframe tbody tr th {\n",
       "        vertical-align: top;\n",
       "    }\n",
       "\n",
       "    .dataframe thead th {\n",
       "        text-align: right;\n",
       "    }\n",
       "</style>\n",
       "<table border=\"1\" class=\"dataframe\">\n",
       "  <thead>\n",
       "    <tr style=\"text-align: right;\">\n",
       "      <th></th>\n",
       "      <th>location</th>\n",
       "      <th>total_cases</th>\n",
       "      <th>total_deaths</th>\n",
       "      <th>total_tests</th>\n",
       "      <th>continent</th>\n",
       "      <th>population</th>\n",
       "      <th>life_expectancy</th>\n",
       "      <th>hospital_beds_per_thousand</th>\n",
       "      <th>gdp_per_capita</th>\n",
       "      <th>tests_per_million</th>\n",
       "      <th>cases_per_million</th>\n",
       "      <th>deaths_per_million</th>\n",
       "    </tr>\n",
       "  </thead>\n",
       "  <tbody>\n",
       "    <tr>\n",
       "      <th>198</th>\n",
       "      <td>United Arab Emirates</td>\n",
       "      <td>71540.0</td>\n",
       "      <td>387.0</td>\n",
       "      <td>7177430.0</td>\n",
       "      <td>Asia</td>\n",
       "      <td>9890400.0</td>\n",
       "      <td>77.97</td>\n",
       "      <td>1.200</td>\n",
       "      <td>67293.483</td>\n",
       "      <td>725696.635121</td>\n",
       "      <td>7233.276713</td>\n",
       "      <td>39.128852</td>\n",
       "    </tr>\n",
       "    <tr>\n",
       "      <th>14</th>\n",
       "      <td>Bahrain</td>\n",
       "      <td>52440.0</td>\n",
       "      <td>190.0</td>\n",
       "      <td>1118837.0</td>\n",
       "      <td>Asia</td>\n",
       "      <td>1701583.0</td>\n",
       "      <td>77.29</td>\n",
       "      <td>2.000</td>\n",
       "      <td>43290.705</td>\n",
       "      <td>657527.137965</td>\n",
       "      <td>30818.361490</td>\n",
       "      <td>111.660730</td>\n",
       "    </tr>\n",
       "    <tr>\n",
       "      <th>116</th>\n",
       "      <td>Luxembourg</td>\n",
       "      <td>7928.0</td>\n",
       "      <td>124.0</td>\n",
       "      <td>385820.0</td>\n",
       "      <td>Europe</td>\n",
       "      <td>625976.0</td>\n",
       "      <td>82.25</td>\n",
       "      <td>4.510</td>\n",
       "      <td>94277.965</td>\n",
       "      <td>616349.508607</td>\n",
       "      <td>12665.022301</td>\n",
       "      <td>198.090662</td>\n",
       "    </tr>\n",
       "    <tr>\n",
       "      <th>123</th>\n",
       "      <td>Malta</td>\n",
       "      <td>1931.0</td>\n",
       "      <td>13.0</td>\n",
       "      <td>188539.0</td>\n",
       "      <td>Europe</td>\n",
       "      <td>441539.0</td>\n",
       "      <td>82.53</td>\n",
       "      <td>4.485</td>\n",
       "      <td>36513.323</td>\n",
       "      <td>427004.183096</td>\n",
       "      <td>4373.339614</td>\n",
       "      <td>29.442473</td>\n",
       "    </tr>\n",
       "    <tr>\n",
       "      <th>53</th>\n",
       "      <td>Denmark</td>\n",
       "      <td>17195.0</td>\n",
       "      <td>626.0</td>\n",
       "      <td>2447911.0</td>\n",
       "      <td>Europe</td>\n",
       "      <td>5792203.0</td>\n",
       "      <td>80.90</td>\n",
       "      <td>2.500</td>\n",
       "      <td>46682.515</td>\n",
       "      <td>422621.755488</td>\n",
       "      <td>2968.645954</td>\n",
       "      <td>108.076323</td>\n",
       "    </tr>\n",
       "    <tr>\n",
       "      <th>97</th>\n",
       "      <td>Israel</td>\n",
       "      <td>122539.0</td>\n",
       "      <td>969.0</td>\n",
       "      <td>2353984.0</td>\n",
       "      <td>Asia</td>\n",
       "      <td>8655541.0</td>\n",
       "      <td>82.97</td>\n",
       "      <td>2.990</td>\n",
       "      <td>33132.320</td>\n",
       "      <td>271962.665303</td>\n",
       "      <td>14157.289533</td>\n",
       "      <td>111.951408</td>\n",
       "    </tr>\n",
       "    <tr>\n",
       "      <th>89</th>\n",
       "      <td>Iceland</td>\n",
       "      <td>2121.0</td>\n",
       "      <td>10.0</td>\n",
       "      <td>88829.0</td>\n",
       "      <td>Europe</td>\n",
       "      <td>341250.0</td>\n",
       "      <td>82.99</td>\n",
       "      <td>2.910</td>\n",
       "      <td>46482.958</td>\n",
       "      <td>260304.761905</td>\n",
       "      <td>6215.384615</td>\n",
       "      <td>29.304029</td>\n",
       "    </tr>\n",
       "    <tr>\n",
       "      <th>158</th>\n",
       "      <td>Russia</td>\n",
       "      <td>1005000.0</td>\n",
       "      <td>17414.0</td>\n",
       "      <td>37176827.0</td>\n",
       "      <td>Europe</td>\n",
       "      <td>145934460.0</td>\n",
       "      <td>72.58</td>\n",
       "      <td>8.050</td>\n",
       "      <td>24765.954</td>\n",
       "      <td>254750.159763</td>\n",
       "      <td>6886.653091</td>\n",
       "      <td>119.327539</td>\n",
       "    </tr>\n",
       "    <tr>\n",
       "      <th>200</th>\n",
       "      <td>United States</td>\n",
       "      <td>6114406.0</td>\n",
       "      <td>185744.0</td>\n",
       "      <td>83898416.0</td>\n",
       "      <td>North America</td>\n",
       "      <td>331002647.0</td>\n",
       "      <td>78.86</td>\n",
       "      <td>2.770</td>\n",
       "      <td>54225.446</td>\n",
       "      <td>253467.507769</td>\n",
       "      <td>18472.377957</td>\n",
       "      <td>561.155633</td>\n",
       "    </tr>\n",
       "    <tr>\n",
       "      <th>10</th>\n",
       "      <td>Australia</td>\n",
       "      <td>25923.0</td>\n",
       "      <td>663.0</td>\n",
       "      <td>6255797.0</td>\n",
       "      <td>Oceania</td>\n",
       "      <td>25499881.0</td>\n",
       "      <td>83.44</td>\n",
       "      <td>3.840</td>\n",
       "      <td>44648.710</td>\n",
       "      <td>245326.517406</td>\n",
       "      <td>1016.592979</td>\n",
       "      <td>26.000121</td>\n",
       "    </tr>\n",
       "  </tbody>\n",
       "</table>\n",
       "</div>"
      ],
      "text/plain": [
       "                 location  total_cases  total_deaths  total_tests  \\\n",
       "198  United Arab Emirates      71540.0         387.0    7177430.0   \n",
       "14                Bahrain      52440.0         190.0    1118837.0   \n",
       "116            Luxembourg       7928.0         124.0     385820.0   \n",
       "123                 Malta       1931.0          13.0     188539.0   \n",
       "53                Denmark      17195.0         626.0    2447911.0   \n",
       "97                 Israel     122539.0         969.0    2353984.0   \n",
       "89                Iceland       2121.0          10.0      88829.0   \n",
       "158                Russia    1005000.0       17414.0   37176827.0   \n",
       "200         United States    6114406.0      185744.0   83898416.0   \n",
       "10              Australia      25923.0         663.0    6255797.0   \n",
       "\n",
       "         continent   population  life_expectancy  hospital_beds_per_thousand  \\\n",
       "198           Asia    9890400.0            77.97                       1.200   \n",
       "14            Asia    1701583.0            77.29                       2.000   \n",
       "116         Europe     625976.0            82.25                       4.510   \n",
       "123         Europe     441539.0            82.53                       4.485   \n",
       "53          Europe    5792203.0            80.90                       2.500   \n",
       "97            Asia    8655541.0            82.97                       2.990   \n",
       "89          Europe     341250.0            82.99                       2.910   \n",
       "158         Europe  145934460.0            72.58                       8.050   \n",
       "200  North America  331002647.0            78.86                       2.770   \n",
       "10         Oceania   25499881.0            83.44                       3.840   \n",
       "\n",
       "     gdp_per_capita  tests_per_million  cases_per_million  deaths_per_million  \n",
       "198       67293.483      725696.635121        7233.276713           39.128852  \n",
       "14        43290.705      657527.137965       30818.361490          111.660730  \n",
       "116       94277.965      616349.508607       12665.022301          198.090662  \n",
       "123       36513.323      427004.183096        4373.339614           29.442473  \n",
       "53        46682.515      422621.755488        2968.645954          108.076323  \n",
       "97        33132.320      271962.665303       14157.289533          111.951408  \n",
       "89        46482.958      260304.761905        6215.384615           29.304029  \n",
       "158       24765.954      254750.159763        6886.653091          119.327539  \n",
       "200       54225.446      253467.507769       18472.377957          561.155633  \n",
       "10        44648.710      245326.517406        1016.592979           26.000121  "
      ]
     },
     "execution_count": 67,
     "metadata": {},
     "output_type": "execute_result"
    }
   ],
   "source": [
    "df.sort_values('tests_per_million', ascending=False).head(10)"
   ]
  },
  {
   "attachments": {},
   "cell_type": "markdown",
   "metadata": {},
   "source": [
    "#### (Optional) Q: Count number of countries that feature in both the lists of \"highest number of tests per million\" and \"highest number of cases per million\"."
   ]
  },
  {
   "cell_type": "code",
   "execution_count": 73,
   "metadata": {},
   "outputs": [
    {
     "data": {
      "text/html": [
       "<div>\n",
       "<style scoped>\n",
       "    .dataframe tbody tr th:only-of-type {\n",
       "        vertical-align: middle;\n",
       "    }\n",
       "\n",
       "    .dataframe tbody tr th {\n",
       "        vertical-align: top;\n",
       "    }\n",
       "\n",
       "    .dataframe thead th {\n",
       "        text-align: right;\n",
       "    }\n",
       "</style>\n",
       "<table border=\"1\" class=\"dataframe\">\n",
       "  <thead>\n",
       "    <tr style=\"text-align: right;\">\n",
       "      <th></th>\n",
       "      <th>location</th>\n",
       "      <th>total_cases</th>\n",
       "      <th>total_deaths</th>\n",
       "      <th>total_tests</th>\n",
       "      <th>continent</th>\n",
       "      <th>population</th>\n",
       "      <th>life_expectancy</th>\n",
       "      <th>hospital_beds_per_thousand</th>\n",
       "      <th>gdp_per_capita</th>\n",
       "      <th>tests_per_million</th>\n",
       "      <th>cases_per_million</th>\n",
       "      <th>deaths_per_million</th>\n",
       "    </tr>\n",
       "  </thead>\n",
       "  <tbody>\n",
       "    <tr>\n",
       "      <th>156</th>\n",
       "      <td>Qatar</td>\n",
       "      <td>119206.0</td>\n",
       "      <td>199.0</td>\n",
       "      <td>634745.0</td>\n",
       "      <td>Asia</td>\n",
       "      <td>2881060.0</td>\n",
       "      <td>80.23</td>\n",
       "      <td>1.20</td>\n",
       "      <td>116935.600</td>\n",
       "      <td>220316.480740</td>\n",
       "      <td>41375.743650</td>\n",
       "      <td>69.071800</td>\n",
       "    </tr>\n",
       "    <tr>\n",
       "      <th>14</th>\n",
       "      <td>Bahrain</td>\n",
       "      <td>52440.0</td>\n",
       "      <td>190.0</td>\n",
       "      <td>1118837.0</td>\n",
       "      <td>Asia</td>\n",
       "      <td>1701583.0</td>\n",
       "      <td>77.29</td>\n",
       "      <td>2.00</td>\n",
       "      <td>43290.705</td>\n",
       "      <td>657527.137965</td>\n",
       "      <td>30818.361490</td>\n",
       "      <td>111.660730</td>\n",
       "    </tr>\n",
       "    <tr>\n",
       "      <th>148</th>\n",
       "      <td>Panama</td>\n",
       "      <td>94084.0</td>\n",
       "      <td>2030.0</td>\n",
       "      <td>336345.0</td>\n",
       "      <td>North America</td>\n",
       "      <td>4314768.0</td>\n",
       "      <td>78.51</td>\n",
       "      <td>2.30</td>\n",
       "      <td>22267.037</td>\n",
       "      <td>77952.047480</td>\n",
       "      <td>21805.112117</td>\n",
       "      <td>470.477208</td>\n",
       "    </tr>\n",
       "    <tr>\n",
       "      <th>40</th>\n",
       "      <td>Chile</td>\n",
       "      <td>414739.0</td>\n",
       "      <td>11344.0</td>\n",
       "      <td>2458762.0</td>\n",
       "      <td>South America</td>\n",
       "      <td>19116209.0</td>\n",
       "      <td>80.18</td>\n",
       "      <td>2.11</td>\n",
       "      <td>22767.037</td>\n",
       "      <td>128621.841287</td>\n",
       "      <td>21695.671982</td>\n",
       "      <td>593.423100</td>\n",
       "    </tr>\n",
       "    <tr>\n",
       "      <th>163</th>\n",
       "      <td>San Marino</td>\n",
       "      <td>735.0</td>\n",
       "      <td>42.0</td>\n",
       "      <td>NaN</td>\n",
       "      <td>Europe</td>\n",
       "      <td>33938.0</td>\n",
       "      <td>84.97</td>\n",
       "      <td>3.80</td>\n",
       "      <td>56861.470</td>\n",
       "      <td>NaN</td>\n",
       "      <td>21657.139490</td>\n",
       "      <td>1237.550828</td>\n",
       "    </tr>\n",
       "    <tr>\n",
       "      <th>9</th>\n",
       "      <td>Aruba</td>\n",
       "      <td>2211.0</td>\n",
       "      <td>12.0</td>\n",
       "      <td>NaN</td>\n",
       "      <td>North America</td>\n",
       "      <td>106766.0</td>\n",
       "      <td>76.29</td>\n",
       "      <td>NaN</td>\n",
       "      <td>35973.781</td>\n",
       "      <td>NaN</td>\n",
       "      <td>20708.839893</td>\n",
       "      <td>112.395332</td>\n",
       "    </tr>\n",
       "    <tr>\n",
       "      <th>106</th>\n",
       "      <td>Kuwait</td>\n",
       "      <td>86478.0</td>\n",
       "      <td>535.0</td>\n",
       "      <td>621616.0</td>\n",
       "      <td>Asia</td>\n",
       "      <td>4270563.0</td>\n",
       "      <td>75.49</td>\n",
       "      <td>2.00</td>\n",
       "      <td>65530.537</td>\n",
       "      <td>145558.325682</td>\n",
       "      <td>20249.789079</td>\n",
       "      <td>125.276222</td>\n",
       "    </tr>\n",
       "    <tr>\n",
       "      <th>151</th>\n",
       "      <td>Peru</td>\n",
       "      <td>663437.0</td>\n",
       "      <td>29259.0</td>\n",
       "      <td>584232.0</td>\n",
       "      <td>South America</td>\n",
       "      <td>32971846.0</td>\n",
       "      <td>76.74</td>\n",
       "      <td>1.60</td>\n",
       "      <td>12236.706</td>\n",
       "      <td>17719.117092</td>\n",
       "      <td>20121.318048</td>\n",
       "      <td>887.393445</td>\n",
       "    </tr>\n",
       "    <tr>\n",
       "      <th>27</th>\n",
       "      <td>Brazil</td>\n",
       "      <td>3997865.0</td>\n",
       "      <td>123780.0</td>\n",
       "      <td>4797948.0</td>\n",
       "      <td>South America</td>\n",
       "      <td>212559409.0</td>\n",
       "      <td>75.88</td>\n",
       "      <td>2.20</td>\n",
       "      <td>14103.452</td>\n",
       "      <td>22572.268255</td>\n",
       "      <td>18808.224105</td>\n",
       "      <td>582.331314</td>\n",
       "    </tr>\n",
       "    <tr>\n",
       "      <th>200</th>\n",
       "      <td>United States</td>\n",
       "      <td>6114406.0</td>\n",
       "      <td>185744.0</td>\n",
       "      <td>83898416.0</td>\n",
       "      <td>North America</td>\n",
       "      <td>331002647.0</td>\n",
       "      <td>78.86</td>\n",
       "      <td>2.77</td>\n",
       "      <td>54225.446</td>\n",
       "      <td>253467.507769</td>\n",
       "      <td>18472.377957</td>\n",
       "      <td>561.155633</td>\n",
       "    </tr>\n",
       "  </tbody>\n",
       "</table>\n",
       "</div>"
      ],
      "text/plain": [
       "          location  total_cases  total_deaths  total_tests      continent  \\\n",
       "156          Qatar     119206.0         199.0     634745.0           Asia   \n",
       "14         Bahrain      52440.0         190.0    1118837.0           Asia   \n",
       "148         Panama      94084.0        2030.0     336345.0  North America   \n",
       "40           Chile     414739.0       11344.0    2458762.0  South America   \n",
       "163     San Marino        735.0          42.0          NaN         Europe   \n",
       "9            Aruba       2211.0          12.0          NaN  North America   \n",
       "106         Kuwait      86478.0         535.0     621616.0           Asia   \n",
       "151           Peru     663437.0       29259.0     584232.0  South America   \n",
       "27          Brazil    3997865.0      123780.0    4797948.0  South America   \n",
       "200  United States    6114406.0      185744.0   83898416.0  North America   \n",
       "\n",
       "      population  life_expectancy  hospital_beds_per_thousand  gdp_per_capita  \\\n",
       "156    2881060.0            80.23                        1.20      116935.600   \n",
       "14     1701583.0            77.29                        2.00       43290.705   \n",
       "148    4314768.0            78.51                        2.30       22267.037   \n",
       "40    19116209.0            80.18                        2.11       22767.037   \n",
       "163      33938.0            84.97                        3.80       56861.470   \n",
       "9       106766.0            76.29                         NaN       35973.781   \n",
       "106    4270563.0            75.49                        2.00       65530.537   \n",
       "151   32971846.0            76.74                        1.60       12236.706   \n",
       "27   212559409.0            75.88                        2.20       14103.452   \n",
       "200  331002647.0            78.86                        2.77       54225.446   \n",
       "\n",
       "     tests_per_million  cases_per_million  deaths_per_million  \n",
       "156      220316.480740       41375.743650           69.071800  \n",
       "14       657527.137965       30818.361490          111.660730  \n",
       "148       77952.047480       21805.112117          470.477208  \n",
       "40       128621.841287       21695.671982          593.423100  \n",
       "163                NaN       21657.139490         1237.550828  \n",
       "9                  NaN       20708.839893          112.395332  \n",
       "106      145558.325682       20249.789079          125.276222  \n",
       "151       17719.117092       20121.318048          887.393445  \n",
       "27        22572.268255       18808.224105          582.331314  \n",
       "200      253467.507769       18472.377957          561.155633  "
      ]
     },
     "execution_count": 73,
     "metadata": {},
     "output_type": "execute_result"
    }
   ],
   "source": [
    "df1 = df.sort_values('tests_per_million', ascending=False)\n",
    "df2 = df.sort_values('cases_per_million', ascending=False).head(10)\n",
    "df2"
   ]
  }
 ],
 "metadata": {
  "kernelspec": {
   "display_name": "Python 3",
   "language": "python",
   "name": "python3"
  },
  "language_info": {
   "codemirror_mode": {
    "name": "ipython",
    "version": 3
   },
   "file_extension": ".py",
   "mimetype": "text/x-python",
   "name": "python",
   "nbconvert_exporter": "python",
   "pygments_lexer": "ipython3",
   "version": "3.11.1 (tags/v3.11.1:a7a450f, Dec  6 2022, 19:58:39) [MSC v.1934 64 bit (AMD64)]"
  },
  "orig_nbformat": 4,
  "vscode": {
   "interpreter": {
    "hash": "72b2382ece9768098284d92bbc69d35954e75b60d1e25897d1389c232f4796f0"
   }
  }
 },
 "nbformat": 4,
 "nbformat_minor": 2
}
