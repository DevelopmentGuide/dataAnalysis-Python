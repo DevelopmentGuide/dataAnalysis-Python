{
 "cells": [
  {
   "attachments": {},
   "cell_type": "markdown",
   "metadata": {},
   "source": [
    "## Pandas"
   ]
  },
  {
   "attachments": {},
   "cell_type": "markdown",
   "metadata": {},
   "source": [
    "Pandas is a Python library for data analysis. It provides a high-performance, easy-to-use data structures and data analysis tools. Pandas is built on top of NumPy, which provides efficient storage and manipulation of dense data arrays in Python."
   ]
  },
  {
   "attachments": {},
   "cell_type": "markdown",
   "metadata": {},
   "source": [
    "#### Contents\n",
    "\n",
    "1. **Phase-1**  \n",
    "    1.1. [**Initialization**](#basic-initialization)  \n",
    "    1.2. [**Basic Operations** on DataFrame](#basic-operations-on-dataframe)  \n",
    "    1.3. [**Mathematical Operations** on DataFrame](#mathematical-operations-on-dataframes)\n",
    "2. [**Phase-2**](#phase-2)"
   ]
  },
  {
   "attachments": {},
   "cell_type": "markdown",
   "metadata": {},
   "source": [
    "#### Basic Initialization"
   ]
  },
  {
   "cell_type": "code",
   "execution_count": null,
   "metadata": {},
   "outputs": [],
   "source": [
    "pip install pandas --upgrade --quiet"
   ]
  },
  {
   "cell_type": "code",
   "execution_count": 1,
   "metadata": {},
   "outputs": [],
   "source": [
    "import pandas as pd"
   ]
  },
  {
   "attachments": {},
   "cell_type": "markdown",
   "metadata": {},
   "source": [
    "Get data "
   ]
  },
  {
   "cell_type": "code",
   "execution_count": 2,
   "metadata": {},
   "outputs": [
    {
     "data": {
      "text/plain": [
       "('climate.txt', <http.client.HTTPMessage at 0x20334934950>)"
      ]
     },
     "execution_count": 2,
     "metadata": {},
     "output_type": "execute_result"
    }
   ],
   "source": [
    "import urllib.request\n",
    "\n",
    "urllib.request.urlretrieve(\n",
    "    'https://gist.github.com/BirajCoder/a4ffcb76fd6fb221d76ac2ee2b8584e9/raw/4054f90adfd361b7aa4255e99c2e874664094cea/climate.csv', \n",
    "    'climate.txt')"
   ]
  },
  {
   "attachments": {},
   "cell_type": "markdown",
   "metadata": {},
   "source": [
    "**Series** is a 1 dimensional data structure, like a list or an array\n",
    "\n",
    "**DataFrame** is a 2 dimensional data structure, like a table with rows and columns"
   ]
  },
  {
   "cell_type": "code",
   "execution_count": 4,
   "metadata": {},
   "outputs": [],
   "source": [
    "df = pd.read_csv('climate.txt')\n",
    "df"
   ]
  },
  {
   "attachments": {},
   "cell_type": "markdown",
   "metadata": {},
   "source": [
    "#### **Basic Operations** on `DataFrame`"
   ]
  },
  {
   "cell_type": "code",
   "execution_count": 32,
   "metadata": {},
   "outputs": [
    {
     "name": "stdout",
     "output_type": "stream",
     "text": [
      "(10000, 3)\n",
      "Index(['temperature', 'rainfall', 'humidity'], dtype='object')\n",
      "temperature    float64\n",
      "rainfall       float64\n",
      "humidity       float64\n",
      "dtype: object\n",
      "   temperature  rainfall  humidity\n",
      "0         25.0      76.0      99.0\n",
      "1         39.0      65.0      70.0\n",
      "2         59.0      45.0      77.0\n",
      "3         84.0      63.0      38.0\n",
      "4         66.0      50.0      52.0\n",
      "      temperature  rainfall  humidity\n",
      "9995         80.0      72.0      98.0\n",
      "9996         27.0      58.0      60.0\n",
      "9997         99.0      62.0      58.0\n",
      "9998         70.0      71.0      91.0\n",
      "9999         92.0      39.0      76.0\n",
      "        temperature      rainfall      humidity\n",
      "count  10000.000000  10000.000000  10000.000000\n",
      "mean      59.841400     60.174300     60.106600\n",
      "std       23.253574     23.302979     23.243276\n",
      "min       20.000000     20.000000     20.000000\n",
      "25%       40.000000     40.000000     40.000000\n",
      "50%       60.000000     60.000000     60.000000\n",
      "75%       80.000000     80.000000     80.000000\n",
      "max      100.000000    100.000000    100.000000\n",
      "<class 'pandas.core.frame.DataFrame'>\n",
      "RangeIndex: 10000 entries, 0 to 9999\n",
      "Data columns (total 3 columns):\n",
      " #   Column       Non-Null Count  Dtype  \n",
      "---  ------       --------------  -----  \n",
      " 0   temperature  10000 non-null  float64\n",
      " 1   rainfall     10000 non-null  float64\n",
      " 2   humidity     10000 non-null  float64\n",
      "dtypes: float64(3)\n",
      "memory usage: 234.5 KB\n",
      "None\n",
      "temperature    59.8414\n",
      "rainfall       60.1743\n",
      "humidity       60.1066\n",
      "dtype: float64\n"
     ]
    }
   ],
   "source": [
    "# Shape of the dataframe\n",
    "print(df.shape)\n",
    "\n",
    "# Column names\n",
    "print(df.columns)\n",
    "\n",
    "# Data types of each column\n",
    "print(df.dtypes)\n",
    "\n",
    "# First 5 rows\n",
    "print(df.head())\n",
    "\n",
    "# Last 5 rows\n",
    "print(df.tail())\n",
    "\n",
    "# Summary statistics\n",
    "print(df.describe())\n",
    "\n",
    "# Information about the dataframe\n",
    "print(df.info())\n",
    "\n",
    "# Mean of each column\n",
    "print(df.mean())"
   ]
  },
  {
   "attachments": {},
   "cell_type": "markdown",
   "metadata": {},
   "source": [
    "#### **Mathematical Operations** on `DataFrames`"
   ]
  },
  {
   "cell_type": "code",
   "execution_count": 37,
   "metadata": {},
   "outputs": [
    {
     "name": "stdout",
     "output_type": "stream",
     "text": [
      "59.8414\n",
      "60.0\n",
      "0    40.0\n",
      "Name: temperature, dtype: float64\n",
      "23.253574325507277\n",
      "540.7287189118912\n",
      "20.0\n",
      "100.0\n",
      "40.0\n",
      "10000\n",
      "598414.0\n",
      "0           25.0\n",
      "1           64.0\n",
      "2          123.0\n",
      "3          207.0\n",
      "4          273.0\n",
      "          ...   \n",
      "9995    598126.0\n",
      "9996    598153.0\n",
      "9997    598252.0\n",
      "9998    598322.0\n",
      "9999    598414.0\n",
      "Name: temperature, Length: 10000, dtype: float64\n",
      "0        25.0\n",
      "1        39.0\n",
      "2        59.0\n",
      "3        84.0\n",
      "4        84.0\n",
      "        ...  \n",
      "9995    100.0\n",
      "9996    100.0\n",
      "9997    100.0\n",
      "9998    100.0\n",
      "9999    100.0\n",
      "Name: temperature, Length: 10000, dtype: float64\n",
      "0       25.0\n",
      "1       25.0\n",
      "2       25.0\n",
      "3       25.0\n",
      "4       25.0\n",
      "        ... \n",
      "9995    20.0\n",
      "9996    20.0\n",
      "9997    20.0\n",
      "9998    20.0\n",
      "9999    20.0\n",
      "Name: temperature, Length: 10000, dtype: float64\n",
      "0              25.0\n",
      "1             975.0\n",
      "2           57525.0\n",
      "3         4832100.0\n",
      "4       318918600.0\n",
      "           ...     \n",
      "9995            inf\n",
      "9996            inf\n",
      "9997            inf\n",
      "9998            inf\n",
      "9999            inf\n",
      "Name: temperature, Length: 10000, dtype: float64\n",
      "[ 25.  39.  59.  84.  66.  41.  91.  49.  67.  85.  78.  31.  52.  28.\n",
      "  32.  45.  80.  24.  20.  56.  93.  62.  87.  43.  44.  88.  27.  38.\n",
      "  55.  26.  63.  21.  48.  40.  29.  35.  36.  97.  94.  47.  46.  69.\n",
      "  33.  34.  92.  51. 100.  74.  79.  73.  68.  99.  53.  90.  81.  23.\n",
      "  86.  58.  98.  37.  57.  96.  95.  70.  50.  89.  22.  30.  77.  83.\n",
      "  72.  60.  82.  76.  65.  42.  64.  61.  54.  71.  75.]\n",
      "40.0    151\n",
      "37.0    148\n",
      "72.0    146\n",
      "35.0    145\n",
      "80.0    144\n",
      "       ... \n",
      "63.0    103\n",
      "83.0    101\n",
      "25.0    101\n",
      "47.0    100\n",
      "34.0     98\n",
      "Name: temperature, Length: 81, dtype: int64\n",
      "0       25.0\n",
      "1       39.0\n",
      "2       59.0\n",
      "3       84.0\n",
      "4       66.0\n",
      "        ... \n",
      "9995    80.0\n",
      "9996    27.0\n",
      "9997    99.0\n",
      "9998    70.0\n",
      "9999    92.0\n",
      "Name: temperature, Length: 10000, dtype: float64\n"
     ]
    },
    {
     "name": "stderr",
     "output_type": "stream",
     "text": [
      "c:\\Users\\Admin\\AppData\\Local\\Programs\\Python\\Python311\\Lib\\site-packages\\numpy\\core\\fromnumeric.py:57: RuntimeWarning: overflow encountered in accumulate\n",
      "  return bound(*args, **kwds)\n"
     ]
    }
   ],
   "source": [
    "# Mean - Average\n",
    "print(df.temperature.mean())\n",
    "\n",
    "# Median - Middle value\n",
    "print(df.temperature.median())\n",
    "\n",
    "# Mode - Most frequent value\n",
    "print(df.temperature.mode())\n",
    "\n",
    "# Standard Deviation - How much the values are spread out\n",
    "print(df.temperature.std())\n",
    "\n",
    "# Variance - How much the values are spread out\n",
    "print(df.temperature.var())\n",
    "\n",
    "# Min - Lowest value\n",
    "print(df.temperature.min())\n",
    "\n",
    "# Max - Highest value\n",
    "print(df.temperature.max())\n",
    "\n",
    "# Quantile - Value below which a given percentage of observations in a group of observations fall\n",
    "print(df.temperature.quantile(0.25))\n",
    "\n",
    "# Count - Number of non-null values\n",
    "print(df.temperature.count())\n",
    "\n",
    "# Sum - Total sum of values\n",
    "print(df.temperature.sum())\n",
    "\n",
    "# Cumulative Sum - Cumulative sum of values\n",
    "print(df.temperature.cumsum())\n",
    "\n",
    "# Cumulative Max - Cumulative maximum of values\n",
    "print(df.temperature.cummax())\n",
    "\n",
    "# Cumulative Min - Cumulative minimum of values\n",
    "print(df.temperature.cummin())\n",
    "\n",
    "# Cumulative Product - Cumulative product of values\n",
    "print(df.temperature.cumprod())\n",
    "\n",
    "# Unique - Unique values\n",
    "print(df.temperature.unique())\n",
    "\n",
    "# Value Counts - Number of times each unique value appears\n",
    "print(df.temperature.value_counts())\n",
    "\n",
    "# Replace - Replace values\n",
    "print(df.temperature.replace(0, 100))"
   ]
  },
  {
   "attachments": {},
   "cell_type": "markdown",
   "metadata": {},
   "source": [
    "#### **Phase-2**\n",
    "\n",
    "1. [**Reading** and **writing** CSV data](#reading-and-writing-csv-data)\n",
    "2. [**Querying**, **filtering** and **sorting** data frames](#querying-filtering-and-sorting-data-frames)\n",
    "3. [**Grouping** and **aggregation** for data summarization](#grouping-and-aggregation-for-data-summarization)\n",
    "4. [**Merging** and **joining data** from multiple sources](#merging-and-joining-data-from-multiple-sources)"
   ]
  },
  {
   "attachments": {},
   "cell_type": "markdown",
   "metadata": {},
   "source": [
    "#### **Reading** and **writing** CSV data"
   ]
  },
  {
   "cell_type": "code",
   "execution_count": 118,
   "metadata": {},
   "outputs": [
    {
     "name": "stdout",
     "output_type": "stream",
     "text": [
      "      temperature  rainfall  humidity\n",
      "0            25.0      76.0      99.0\n",
      "1            39.0      65.0      70.0\n",
      "2            59.0      45.0      77.0\n",
      "3            84.0      63.0      38.0\n",
      "4            66.0      50.0      52.0\n",
      "...           ...       ...       ...\n",
      "9995         80.0      72.0      98.0\n",
      "9996         27.0      58.0      60.0\n",
      "9997         99.0      62.0      58.0\n",
      "9998         70.0      71.0      91.0\n",
      "9999         92.0      39.0      76.0\n",
      "\n",
      "[10000 rows x 3 columns]\n",
      "   col1  col2\n",
      "0     1     6\n",
      "1     2     7\n",
      "2     3     8\n",
      "3     4     9\n",
      "4     5    10\n",
      "   col1  col2  new\n",
      "0     1     6    1\n",
      "1     2     7    2\n",
      "2     3     8    3\n",
      "3     4     9    4\n",
      "4     5    10    5\n"
     ]
    },
    {
     "ename": "ValueError",
     "evalue": "cannot set a row with mismatched columns",
     "output_type": "error",
     "traceback": [
      "\u001b[1;31m---------------------------------------------------------------------------\u001b[0m",
      "\u001b[1;31mValueError\u001b[0m                                Traceback (most recent call last)",
      "Cell \u001b[1;32mIn[118], line 20\u001b[0m\n\u001b[0;32m     17\u001b[0m \u001b[39mprint\u001b[39m(df)\n\u001b[0;32m     19\u001b[0m \u001b[39m# Add row\u001b[39;00m\n\u001b[1;32m---> 20\u001b[0m df\u001b[39m.\u001b[39;49mloc[\u001b[39m6\u001b[39;49m] \u001b[39m=\u001b[39m [\u001b[39m6\u001b[39m]\n\u001b[0;32m     21\u001b[0m df\u001b[39m.\u001b[39mto_csv(\u001b[39m'\u001b[39m\u001b[39mnew.csv\u001b[39m\u001b[39m'\u001b[39m)\n\u001b[0;32m     22\u001b[0m \u001b[39mprint\u001b[39m(df)\n",
      "File \u001b[1;32mc:\\Users\\Admin\\AppData\\Local\\Programs\\Python\\Python311\\Lib\\site-packages\\pandas\\core\\indexing.py:818\u001b[0m, in \u001b[0;36m_LocationIndexer.__setitem__\u001b[1;34m(self, key, value)\u001b[0m\n\u001b[0;32m    815\u001b[0m \u001b[39mself\u001b[39m\u001b[39m.\u001b[39m_has_valid_setitem_indexer(key)\n\u001b[0;32m    817\u001b[0m iloc \u001b[39m=\u001b[39m \u001b[39mself\u001b[39m \u001b[39mif\u001b[39;00m \u001b[39mself\u001b[39m\u001b[39m.\u001b[39mname \u001b[39m==\u001b[39m \u001b[39m\"\u001b[39m\u001b[39miloc\u001b[39m\u001b[39m\"\u001b[39m \u001b[39melse\u001b[39;00m \u001b[39mself\u001b[39m\u001b[39m.\u001b[39mobj\u001b[39m.\u001b[39miloc\n\u001b[1;32m--> 818\u001b[0m iloc\u001b[39m.\u001b[39;49m_setitem_with_indexer(indexer, value, \u001b[39mself\u001b[39;49m\u001b[39m.\u001b[39;49mname)\n",
      "File \u001b[1;32mc:\\Users\\Admin\\AppData\\Local\\Programs\\Python\\Python311\\Lib\\site-packages\\pandas\\core\\indexing.py:1785\u001b[0m, in \u001b[0;36m_iLocIndexer._setitem_with_indexer\u001b[1;34m(self, indexer, value, name)\u001b[0m\n\u001b[0;32m   1782\u001b[0m     indexer, missing \u001b[39m=\u001b[39m convert_missing_indexer(indexer)\n\u001b[0;32m   1784\u001b[0m     \u001b[39mif\u001b[39;00m missing:\n\u001b[1;32m-> 1785\u001b[0m         \u001b[39mself\u001b[39;49m\u001b[39m.\u001b[39;49m_setitem_with_indexer_missing(indexer, value)\n\u001b[0;32m   1786\u001b[0m         \u001b[39mreturn\u001b[39;00m\n\u001b[0;32m   1788\u001b[0m \u001b[39mif\u001b[39;00m name \u001b[39m==\u001b[39m \u001b[39m\"\u001b[39m\u001b[39mloc\u001b[39m\u001b[39m\"\u001b[39m:\n\u001b[0;32m   1789\u001b[0m     \u001b[39m# must come after setting of missing\u001b[39;00m\n",
      "File \u001b[1;32mc:\\Users\\Admin\\AppData\\Local\\Programs\\Python\\Python311\\Lib\\site-packages\\pandas\\core\\indexing.py:2160\u001b[0m, in \u001b[0;36m_iLocIndexer._setitem_with_indexer_missing\u001b[1;34m(self, indexer, value)\u001b[0m\n\u001b[0;32m   2157\u001b[0m     \u001b[39mif\u001b[39;00m is_list_like_indexer(value):\n\u001b[0;32m   2158\u001b[0m         \u001b[39m# must have conforming columns\u001b[39;00m\n\u001b[0;32m   2159\u001b[0m         \u001b[39mif\u001b[39;00m \u001b[39mlen\u001b[39m(value) \u001b[39m!=\u001b[39m \u001b[39mlen\u001b[39m(\u001b[39mself\u001b[39m\u001b[39m.\u001b[39mobj\u001b[39m.\u001b[39mcolumns):\n\u001b[1;32m-> 2160\u001b[0m             \u001b[39mraise\u001b[39;00m \u001b[39mValueError\u001b[39;00m(\u001b[39m\"\u001b[39m\u001b[39mcannot set a row with mismatched columns\u001b[39m\u001b[39m\"\u001b[39m)\n\u001b[0;32m   2162\u001b[0m     value \u001b[39m=\u001b[39m Series(value, index\u001b[39m=\u001b[39m\u001b[39mself\u001b[39m\u001b[39m.\u001b[39mobj\u001b[39m.\u001b[39mcolumns, name\u001b[39m=\u001b[39mindexer)\n\u001b[0;32m   2164\u001b[0m \u001b[39mif\u001b[39;00m \u001b[39mnot\u001b[39;00m \u001b[39mlen\u001b[39m(\u001b[39mself\u001b[39m\u001b[39m.\u001b[39mobj):\n\u001b[0;32m   2165\u001b[0m     \u001b[39m# We will ignore the existing dtypes instead of using\u001b[39;00m\n\u001b[0;32m   2166\u001b[0m     \u001b[39m#  internals.concat logic\u001b[39;00m\n",
      "\u001b[1;31mValueError\u001b[0m: cannot set a row with mismatched columns"
     ]
    }
   ],
   "source": [
    "#### **Reading** and **writing** CSV data\n",
    "\n",
    "# Read CSV\n",
    "df = pd.read_csv('climate.txt')\n",
    "print(df)\n",
    "\n",
    "# Create blank CSV\n",
    "df = pd.DataFrame()\n",
    "df.to_csv('new.csv')\n",
    "df = pd.DataFrame({'col1': [1, 2, 3, 4, 5], 'col2': [6, 7, 8, 9, 10]})\n",
    "df.to_csv('new.csv')\n",
    "print(df)\n",
    "\n",
    "# Add column\n",
    "df['new'] = [1, 2, 3, 4, 5]\n",
    "df.to_csv('new.csv')\n",
    "print(df)\n",
    "\n",
    "# Add row\n",
    "df.loc[6] = [6]\n",
    "df.to_csv('new.csv')\n",
    "print(df)\n",
    "\n",
    "# Delete column\n",
    "df['col2del'] = [1, 2, 3, 4, 5, 6]\n",
    "df.to_csv('new.csv')\n",
    "print(df)\n",
    "del df['col2del']\n",
    "df.to_csv('new.csv')\n",
    "print(df)\n",
    "\n",
    "# Delete row\n",
    "df = df.drop(6)\n",
    "df.to_csv('new.csv')\n",
    "print(df)\n",
    "\n",
    "# Rename column\n",
    "df = df.rename(columns={'new': 'new_col'})\n",
    "df.to_csv('new.csv')\n",
    "print(df)"
   ]
  },
  {
   "attachments": {},
   "cell_type": "markdown",
   "metadata": {},
   "source": [
    "#### **Querying**, **filtering** and **sorting** data frames"
   ]
  },
  {
   "cell_type": "code",
   "execution_count": 103,
   "metadata": {},
   "outputs": [
    {
     "name": "stdout",
     "output_type": "stream",
     "text": [
      "      temperature  rainfall  humidity\n",
      "6            91.0      57.0      96.0\n",
      "22           93.0      70.0      80.0\n",
      "32           93.0      61.0      73.0\n",
      "54           97.0      62.0      87.0\n",
      "57           94.0     100.0      59.0\n",
      "...           ...       ...       ...\n",
      "9965         98.0      98.0      78.0\n",
      "9982         92.0      63.0      60.0\n",
      "9990         92.0      36.0      20.0\n",
      "9997         99.0      62.0      58.0\n",
      "9999         92.0      39.0      76.0\n",
      "\n",
      "[1190 rows x 3 columns]\n",
      "      temperature  rainfall  humidity\n",
      "6            91.0      57.0      96.0\n",
      "22           93.0      70.0      80.0\n",
      "32           93.0      61.0      73.0\n",
      "54           97.0      62.0      87.0\n",
      "57           94.0     100.0      59.0\n",
      "...           ...       ...       ...\n",
      "9965         98.0      98.0      78.0\n",
      "9982         92.0      63.0      60.0\n",
      "9990         92.0      36.0      20.0\n",
      "9997         99.0      62.0      58.0\n",
      "9999         92.0      39.0      76.0\n",
      "\n",
      "[1190 rows x 3 columns]\n",
      "      temperature  rainfall  humidity\n",
      "4180        100.0      67.0      55.0\n",
      "4161        100.0      55.0      26.0\n",
      "3017        100.0      67.0     100.0\n",
      "3010        100.0      52.0      71.0\n",
      "6462        100.0      64.0      66.0\n",
      "...           ...       ...       ...\n",
      "4836         20.0      94.0      84.0\n",
      "3870         20.0      45.0      81.0\n",
      "9216         20.0      43.0      50.0\n",
      "1397         20.0      64.0      35.0\n",
      "1362         20.0      49.0      68.0\n",
      "\n",
      "[10000 rows x 3 columns]\n",
      "25.0\n",
      "0    25.0\n",
      "1    39.0\n",
      "2    59.0\n",
      "3    84.0\n",
      "4    66.0\n",
      "Name: temperature, dtype: float64\n"
     ]
    }
   ],
   "source": [
    "df = pd.read_csv('climate.txt')\n",
    "\n",
    "# Query\n",
    "print(df.query('temperature > 90'))\n",
    "\n",
    "# Filter\n",
    "print(df[df.temperature > 90])\n",
    "\n",
    "# Sort\n",
    "print(df.sort_values(by='temperature', ascending=False))\n",
    "\n",
    "# Indexing\n",
    "print(df.temperature[0])\n",
    "\n",
    "# Slicing\n",
    "print(df.temperature[0:5])"
   ]
  },
  {
   "attachments": {},
   "cell_type": "markdown",
   "metadata": {},
   "source": [
    "#### **Grouping** and **aggregation** for data summarization"
   ]
  },
  {
   "cell_type": "code",
   "execution_count": 116,
   "metadata": {},
   "outputs": [
    {
     "name": "stdout",
     "output_type": "stream",
     "text": [
      "              rainfall   humidity\n",
      "temperature                      \n",
      "20.0         61.440299  58.402985\n",
      "21.0         60.639344  58.901639\n",
      "22.0         57.546296  59.546296\n",
      "23.0         60.819672  62.598361\n",
      "24.0         61.833333  59.468254\n",
      "...                ...        ...\n",
      "96.0         58.974359  56.914530\n",
      "97.0         60.000000  60.981982\n",
      "98.0         58.058394  59.021898\n",
      "99.0         60.594203  60.065217\n",
      "100.0        57.650000  57.183333\n",
      "\n",
      "[81 rows x 2 columns]\n",
      "        temperature    rainfall    humidity\n",
      "min       20.000000   20.000000   20.000000\n",
      "max      100.000000  100.000000  100.000000\n",
      "mean      59.841400   60.174300   60.106600\n",
      "median    60.000000   60.000000   60.000000\n",
      "std       23.253574   23.302979   23.243276\n",
      "var      540.728719  543.028822  540.249861\n",
      "0        50.0\n",
      "1        78.0\n",
      "2       118.0\n",
      "3       168.0\n",
      "4       132.0\n",
      "        ...  \n",
      "9995    160.0\n",
      "9996     54.0\n",
      "9997    198.0\n",
      "9998    140.0\n",
      "9999    184.0\n",
      "Name: temperature, Length: 10000, dtype: float64\n",
      "0        50.0\n",
      "1        78.0\n",
      "2       118.0\n",
      "3       168.0\n",
      "4       132.0\n",
      "        ...  \n",
      "9995    160.0\n",
      "9996     54.0\n",
      "9997    198.0\n",
      "9998    140.0\n",
      "9999    184.0\n",
      "Name: temperature, Length: 10000, dtype: float64\n"
     ]
    }
   ],
   "source": [
    "# Groupby\n",
    "print(df.groupby('temperature').mean())\n",
    "\n",
    "# Aggregation\n",
    "print(df.agg(['min', 'max', 'mean', 'median', 'std', 'var']))\n",
    "\n",
    "# Apply\n",
    "print(df.temperature.apply(lambda x: x * 2))\n",
    "\n",
    "# Map\n",
    "print(df.temperature.map(lambda x: x * 2))"
   ]
  },
  {
   "attachments": {},
   "cell_type": "markdown",
   "metadata": {},
   "source": [
    "#### **Merging** and **joining data** from multiple sources"
   ]
  },
  {
   "cell_type": "code",
   "execution_count": 115,
   "metadata": {},
   "outputs": [
    {
     "name": "stdout",
     "output_type": "stream",
     "text": [
      "      A    B    C    D\n",
      "0    A0   B0   C0   D0\n",
      "1    A1   B1   C1   D1\n",
      "2    A2   B2   C2   D2\n",
      "3    A3   B3   C3   D3\n",
      "4    A4   B4   C4   D4\n",
      "5    A5   B5   C5   D5\n",
      "6    A6   B6   C6   D6\n",
      "7    A7   B7   C7   D7\n",
      "8    A8   B8   C8   D8\n",
      "9    A9   B9   C9   D9\n",
      "10  A10  B10  C10  D10\n",
      "11  A11  B11  C11  D11\n",
      "     A    B    C    D    B    D    F\n",
      "0   A0   B0   C0   D0  NaN  NaN  NaN\n",
      "1   A1   B1   C1   D1  NaN  NaN  NaN\n",
      "2   A2   B2   C2   D2   B2   D2   F2\n",
      "3   A3   B3   C3   D3   B3   D3   F3\n",
      "6  NaN  NaN  NaN  NaN   B6   D6   F6\n",
      "7  NaN  NaN  NaN  NaN   B7   D7   F7\n",
      "  key   A   B   C   D\n",
      "0  K0  A0  B0  C0  D0\n",
      "1  K1  A1  B1  C1  D1\n",
      "2  K2  A2  B2  C2  D2\n",
      "3  K3  A3  B3  C3  D3\n"
     ]
    }
   ],
   "source": [
    "# Merge\n",
    "df1 = pd.DataFrame({'A': ['A0', 'A1', 'A2', 'A3'],\n",
    "                    'B': ['B0', 'B1', 'B2', 'B3'],\n",
    "                    'C': ['C0', 'C1', 'C2', 'C3'],\n",
    "                    'D': ['D0', 'D1', 'D2', 'D3']},\n",
    "                     index=[0, 1, 2, 3])\n",
    "\n",
    "df2 = pd.DataFrame({'A': ['A4', 'A5', 'A6', 'A7'],\n",
    "                    'B': ['B4', 'B5', 'B6', 'B7'],\n",
    "                    'C': ['C4', 'C5', 'C6', 'C7'],\n",
    "                    'D': ['D4', 'D5', 'D6', 'D7']},\n",
    "                    index=[4, 5, 6, 7])\n",
    "\n",
    "\n",
    "df3 = pd.DataFrame({'A': ['A8', 'A9', 'A10', 'A11'],\n",
    "                    'B': ['B8', 'B9', 'B10', 'B11'],    \n",
    "                    'C': ['C8', 'C9', 'C10', 'C11'],\n",
    "                    'D': ['D8', 'D9', 'D10', 'D11']},\n",
    "                    index=[8, 9, 10, 11])\n",
    "\n",
    "frames = [df1, df2, df3]\n",
    "result = pd.concat(frames)\n",
    "print(result)\n",
    "\n",
    "# Concat\n",
    "df4 = pd.DataFrame({'B': ['B2', 'B3', 'B6', 'B7'],\n",
    "                    'D': ['D2', 'D3', 'D6', 'D7'],\n",
    "                    'F': ['F2', 'F3', 'F6', 'F7']},\n",
    "                    index=[2, 3, 6, 7])\n",
    "\n",
    "result = pd.concat([df1, df4], axis=1, sort=False)\n",
    "print(result)\n",
    "\n",
    "# Join\n",
    "left = pd.DataFrame({'key': ['K0', 'K1', 'K2', 'K3'],\n",
    "                        'A': ['A0', 'A1', 'A2', 'A3'],\n",
    "                        'B': ['B0', 'B1', 'B2', 'B3']})\n",
    "\n",
    "right = pd.DataFrame({'key': ['K0', 'K1', 'K2', 'K3'],\n",
    "                        'C': ['C0', 'C1', 'C2', 'C3'],\n",
    "                        'D': ['D0', 'D1', 'D2', 'D3']})\n",
    "\n",
    "result = pd.merge(left, right, on='key')\n",
    "print(result)     "
   ]
  }
 ],
 "metadata": {
  "kernelspec": {
   "display_name": "Python 3",
   "language": "python",
   "name": "python3"
  },
  "language_info": {
   "codemirror_mode": {
    "name": "ipython",
    "version": 3
   },
   "file_extension": ".py",
   "mimetype": "text/x-python",
   "name": "python",
   "nbconvert_exporter": "python",
   "pygments_lexer": "ipython3",
   "version": "3.11.1"
  },
  "orig_nbformat": 4,
  "vscode": {
   "interpreter": {
    "hash": "72b2382ece9768098284d92bbc69d35954e75b60d1e25897d1389c232f4796f0"
   }
  }
 },
 "nbformat": 4,
 "nbformat_minor": 2
}
